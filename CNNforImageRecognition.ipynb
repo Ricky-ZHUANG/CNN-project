{
  "nbformat": 4,
  "nbformat_minor": 0,
  "metadata": {
    "colab": {
      "name": "CNNforImageRecognition.ipynb",
      "provenance": [],
      "collapsed_sections": []
    },
    "kernelspec": {
      "name": "python3",
      "display_name": "Python 3"
    },
    "language_info": {
      "name": "python"
    },
    "accelerator": "GPU",
    "gpuClass": "standard"
  },
  "cells": [
    {
      "cell_type": "code",
      "execution_count": 1,
      "metadata": {
        "id": "6onBlb_M6p3f",
        "colab": {
          "base_uri": "https://localhost:8080/"
        },
        "outputId": "4aabdd5b-98ff-4697-94cc-06e7912ac32c"
      },
      "outputs": [
        {
          "output_type": "stream",
          "name": "stdout",
          "text": [
            "2.8.2\n",
            "2.8.0\n"
          ]
        }
      ],
      "source": [
        "#testing tenserflow library\n",
        "import tensorflow as tf\n",
        "from tensorflow import keras\n",
        "from tensorflow.keras.optimizers import RMSprop\n",
        "import numpy as np\n",
        "from sklearn.metrics import recall_score\n",
        "print(tf.__version__)\n",
        "print(keras.__version__)"
      ]
    },
    {
      "cell_type": "code",
      "source": [
        "import shutil\n",
        "# 把olddir拷贝一份newdir\n",
        "shutil.copytree('/content/drive/MyDrive/COVID_data_image/train','train')\n",
        "shutil.copytree('/content/drive/MyDrive/COVID_data_image/validation','validation')"
      ],
      "metadata": {
        "id": "J3mzdfLh7O2_",
        "colab": {
          "base_uri": "https://localhost:8080/",
          "height": 36
        },
        "outputId": "67cb50af-7110-4104-bd13-8f9bb52e284a"
      },
      "execution_count": 2,
      "outputs": [
        {
          "output_type": "execute_result",
          "data": {
            "text/plain": [
              "'validation'"
            ],
            "application/vnd.google.colaboratory.intrinsic+json": {
              "type": "string"
            }
          },
          "metadata": {},
          "execution_count": 2
        }
      ]
    },
    {
      "cell_type": "code",
      "source": [
        "shutil.copytree('/content/drive/MyDrive/COVID_data_image/train','ag_bc')"
      ],
      "metadata": {
        "colab": {
          "base_uri": "https://localhost:8080/",
          "height": 36
        },
        "id": "FtjK4k3PuhoH",
        "outputId": "7b671c30-6ff7-4982-c58e-225e3b1ca020"
      },
      "execution_count": 3,
      "outputs": [
        {
          "output_type": "execute_result",
          "data": {
            "text/plain": [
              "'ag_bc'"
            ],
            "application/vnd.google.colaboratory.intrinsic+json": {
              "type": "string"
            }
          },
          "metadata": {},
          "execution_count": 3
        }
      ]
    },
    {
      "cell_type": "code",
      "source": [
        "shutil.copytree('/content/drive/MyDrive/COVID_data_image/train','ag_br')"
      ],
      "metadata": {
        "colab": {
          "base_uri": "https://localhost:8080/",
          "height": 36
        },
        "id": "Tv3jvQfkvvam",
        "outputId": "d492a727-e661-4027-99e3-3f0a00488021"
      },
      "execution_count": 4,
      "outputs": [
        {
          "output_type": "execute_result",
          "data": {
            "text/plain": [
              "'ag_br'"
            ],
            "application/vnd.google.colaboratory.intrinsic+json": {
              "type": "string"
            }
          },
          "metadata": {},
          "execution_count": 4
        }
      ]
    },
    {
      "cell_type": "code",
      "source": [
        "shutil.copytree('/content/drive/MyDrive/COVID_data_image/train','ag_bs')"
      ],
      "metadata": {
        "colab": {
          "base_uri": "https://localhost:8080/",
          "height": 36
        },
        "id": "BZx4VwvBwHAu",
        "outputId": "54766454-cb4d-459e-9550-553104d0e5b6"
      },
      "execution_count": 5,
      "outputs": [
        {
          "output_type": "execute_result",
          "data": {
            "text/plain": [
              "'ag_bs'"
            ],
            "application/vnd.google.colaboratory.intrinsic+json": {
              "type": "string"
            }
          },
          "metadata": {},
          "execution_count": 5
        }
      ]
    },
    {
      "cell_type": "code",
      "source": [
        "shutil.copytree('/content/drive/MyDrive/COVID_data_image/train','ag_rc')"
      ],
      "metadata": {
        "colab": {
          "base_uri": "https://localhost:8080/",
          "height": 36
        },
        "id": "SWdIbXVUxBm-",
        "outputId": "98b40800-a9a7-469f-e4d4-aa8ecfd73a0b"
      },
      "execution_count": 6,
      "outputs": [
        {
          "output_type": "execute_result",
          "data": {
            "text/plain": [
              "'ag_rc'"
            ],
            "application/vnd.google.colaboratory.intrinsic+json": {
              "type": "string"
            }
          },
          "metadata": {},
          "execution_count": 6
        }
      ]
    },
    {
      "cell_type": "code",
      "source": [
        "shutil.copytree('/content/drive/MyDrive/COVID_data_image/train','ag_rs')"
      ],
      "metadata": {
        "colab": {
          "base_uri": "https://localhost:8080/",
          "height": 36
        },
        "id": "IWsPTl_sxeV9",
        "outputId": "b82ff40a-8e6d-4bc2-8f99-8129212dc50e"
      },
      "execution_count": 7,
      "outputs": [
        {
          "output_type": "execute_result",
          "data": {
            "text/plain": [
              "'ag_rs'"
            ],
            "application/vnd.google.colaboratory.intrinsic+json": {
              "type": "string"
            }
          },
          "metadata": {},
          "execution_count": 7
        }
      ]
    },
    {
      "cell_type": "code",
      "source": [
        "shutil.copytree('/content/drive/MyDrive/COVID_data_image/train','ag_sc')"
      ],
      "metadata": {
        "colab": {
          "base_uri": "https://localhost:8080/",
          "height": 36
        },
        "id": "KXXGPssUx_mG",
        "outputId": "24def96f-8c54-42cf-994d-6bea864a14ba"
      },
      "execution_count": 8,
      "outputs": [
        {
          "output_type": "execute_result",
          "data": {
            "text/plain": [
              "'ag_sc'"
            ],
            "application/vnd.google.colaboratory.intrinsic+json": {
              "type": "string"
            }
          },
          "metadata": {},
          "execution_count": 8
        }
      ]
    },
    {
      "cell_type": "code",
      "source": [
        "from tensorflow.keras.preprocessing.image import ImageDataGenerator\n",
        "\n",
        "train_datagen = ImageDataGenerator(rescale=1/255)\n",
        "validation_datagen = ImageDataGenerator(rescale=1/255)\n",
        "\n",
        "train_path = '/content/train'\n",
        "validation_path = '/content/validation'\n",
        "\n",
        "#class_mode 是多分類\n",
        "train_generator = train_datagen.flow_from_directory(\n",
        "    train_path,\n",
        "    batch_size = 32,\n",
        "    target_size = (299,299),\n",
        "    class_mode='categorical',\n",
        "    color_mode = 'rgb',\n",
        "    save_format = 'png'\n",
        ")\n",
        "\n",
        "validation_generator = validation_datagen.flow_from_directory(\n",
        "    validation_path,\n",
        "    target_size = (299,299),\n",
        "    batch_size = 32,\n",
        "    class_mode='categorical',\n",
        "    color_mode = 'rgb',\n",
        "    save_format = 'png'\n",
        ")"
      ],
      "metadata": {
        "id": "syB5gu7u7Rfq",
        "colab": {
          "base_uri": "https://localhost:8080/"
        },
        "outputId": "8a411b7b-4704-47e7-cf96-3dbfb2b376ba"
      },
      "execution_count": 9,
      "outputs": [
        {
          "output_type": "stream",
          "name": "stdout",
          "text": [
            "Found 12698 images belonging to 4 classes.\n",
            "Found 4235 images belonging to 4 classes.\n"
          ]
        }
      ]
    },
    {
      "cell_type": "code",
      "source": [
        "#check the label\n",
        "print(validation_generator.class_indices)"
      ],
      "metadata": {
        "colab": {
          "base_uri": "https://localhost:8080/"
        },
        "id": "3dKs0rBuxY_X",
        "outputId": "61a3b07e-c51c-4702-e77c-36e44f531195"
      },
      "execution_count": 10,
      "outputs": [
        {
          "output_type": "stream",
          "name": "stdout",
          "text": [
            "{'COVID': 0, 'Lung_Opacity': 1, 'Normal': 2, 'Viral Pneumonia': 3}\n"
          ]
        }
      ]
    },
    {
      "cell_type": "code",
      "source": [
        "print(train_generator.class_indices)"
      ],
      "metadata": {
        "colab": {
          "base_uri": "https://localhost:8080/"
        },
        "id": "hSEmpqFOz2up",
        "outputId": "9265aa42-a9ce-4a1c-d853-8532748f325f"
      },
      "execution_count": 11,
      "outputs": [
        {
          "output_type": "stream",
          "name": "stdout",
          "text": [
            "{'COVID': 0, 'Lung_Opacity': 1, 'Normal': 2, 'Viral Pneumonia': 3}\n"
          ]
        }
      ]
    },
    {
      "cell_type": "code",
      "source": [
        "model = tf.keras.models.Sequential([\n",
        "    tf.keras.layers.Conv2D(12, (3,3), activation = 'relu',input_shape = (299,299,3)),\n",
        "    tf.keras.layers.Conv2D(12, (3,3), activation = 'relu'),\n",
        "    tf.keras.layers.MaxPool2D(2,2),\n",
        "    tf.keras.layers.Dropout(0.5),\n",
        "\n",
        "    tf.keras.layers.Conv2D(24, (3,3), activation = 'relu'),\n",
        "    tf.keras.layers.Conv2D(48, (3,3), activation = 'relu'),\n",
        "    tf.keras.layers.Conv2D(64, (3,3), activation = 'relu'),\n",
        "    tf.keras.layers.MaxPool2D(2,2),\n",
        "    tf.keras.layers.Dropout(0.5),\n",
        "\n",
        "    tf.keras.layers.Flatten(),\n",
        "    \n",
        "    tf.keras.layers.Dense(64, activation = 'relu'),\n",
        "    tf.keras.layers.Dense(64, activation = 'relu'),\n",
        "    tf.keras.layers.Dense(4, activation = 'softmax')\n",
        "])"
      ],
      "metadata": {
        "id": "RcQ0XvRA7Sfs"
      },
      "execution_count": 12,
      "outputs": []
    },
    {
      "cell_type": "code",
      "source": [
        "model.compile(\n",
        "    loss = 'categorical_crossentropy',\n",
        "    optimizer = RMSprop(lr=0.001),\n",
        "    metrics = ['acc']\n",
        ")\n",
        "\n",
        "history = model.fit(\n",
        "    train_generator,\n",
        "    epochs = 15,\n",
        "    verbose = 1,\n",
        "    validation_data = validation_generator\n",
        ")"
      ],
      "metadata": {
        "id": "TuvQTf-w7SjQ",
        "colab": {
          "base_uri": "https://localhost:8080/"
        },
        "outputId": "35b954f3-2106-41bf-fa02-a9adb6dacb66"
      },
      "execution_count": 17,
      "outputs": [
        {
          "output_type": "stream",
          "name": "stdout",
          "text": [
            "Epoch 1/15\n"
          ]
        },
        {
          "output_type": "stream",
          "name": "stderr",
          "text": [
            "/usr/local/lib/python3.7/dist-packages/keras/optimizer_v2/rmsprop.py:130: UserWarning: The `lr` argument is deprecated, use `learning_rate` instead.\n",
            "  super(RMSprop, self).__init__(name, **kwargs)\n"
          ]
        },
        {
          "output_type": "stream",
          "name": "stdout",
          "text": [
            "397/397 [==============================] - 70s 174ms/step - loss: 0.0422 - acc: 0.9887 - val_loss: 1.5518 - val_acc: 0.7986\n",
            "Epoch 2/15\n",
            "397/397 [==============================] - 69s 173ms/step - loss: 0.0406 - acc: 0.9893 - val_loss: 1.7785 - val_acc: 0.7913\n",
            "Epoch 3/15\n",
            "397/397 [==============================] - 69s 174ms/step - loss: 0.0357 - acc: 0.9905 - val_loss: 1.8125 - val_acc: 0.7936\n",
            "Epoch 4/15\n",
            "397/397 [==============================] - 69s 174ms/step - loss: 0.0355 - acc: 0.9911 - val_loss: 1.9276 - val_acc: 0.8017\n",
            "Epoch 5/15\n",
            "397/397 [==============================] - 69s 173ms/step - loss: 0.0384 - acc: 0.9915 - val_loss: 2.3943 - val_acc: 0.7809\n",
            "Epoch 6/15\n",
            "397/397 [==============================] - 69s 173ms/step - loss: 0.0459 - acc: 0.9895 - val_loss: 2.3238 - val_acc: 0.7936\n",
            "Epoch 7/15\n",
            "397/397 [==============================] - 69s 174ms/step - loss: 0.0465 - acc: 0.9901 - val_loss: 2.6596 - val_acc: 0.7865\n",
            "Epoch 8/15\n",
            "397/397 [==============================] - 69s 174ms/step - loss: 0.0501 - acc: 0.9891 - val_loss: 3.0517 - val_acc: 0.7854\n",
            "Epoch 9/15\n",
            "397/397 [==============================] - 69s 174ms/step - loss: 0.0477 - acc: 0.9906 - val_loss: 2.6623 - val_acc: 0.7915\n",
            "Epoch 10/15\n",
            "397/397 [==============================] - 69s 174ms/step - loss: 0.0315 - acc: 0.9925 - val_loss: 2.9397 - val_acc: 0.7591\n",
            "Epoch 11/15\n",
            "397/397 [==============================] - 69s 175ms/step - loss: 0.0348 - acc: 0.9928 - val_loss: 2.6950 - val_acc: 0.7894\n",
            "Epoch 12/15\n",
            "397/397 [==============================] - 69s 174ms/step - loss: 0.0404 - acc: 0.9924 - val_loss: 2.9620 - val_acc: 0.7847\n",
            "Epoch 13/15\n",
            "397/397 [==============================] - 69s 174ms/step - loss: 0.0501 - acc: 0.9913 - val_loss: 2.9010 - val_acc: 0.7856\n",
            "Epoch 14/15\n",
            "397/397 [==============================] - 69s 174ms/step - loss: 0.0403 - acc: 0.9926 - val_loss: 3.5427 - val_acc: 0.7856\n",
            "Epoch 15/15\n",
            "397/397 [==============================] - 69s 174ms/step - loss: 0.0399 - acc: 0.9932 - val_loss: 2.7933 - val_acc: 0.7889\n"
          ]
        }
      ]
    },
    {
      "cell_type": "code",
      "source": [
        "result = model.predict(\n",
        "    validation_generator\n",
        ")"
      ],
      "metadata": {
        "id": "JC1GYPnw_NHq"
      },
      "execution_count": 18,
      "outputs": []
    },
    {
      "cell_type": "code",
      "source": [
        "predict = result.argmax(axis=1)\n",
        "predict"
      ],
      "metadata": {
        "id": "MHiito_FInIS",
        "colab": {
          "base_uri": "https://localhost:8080/"
        },
        "outputId": "48bea98b-49db-4946-97bc-0b4e470565e8"
      },
      "execution_count": 19,
      "outputs": [
        {
          "output_type": "execute_result",
          "data": {
            "text/plain": [
              "array([2, 1, 2, ..., 2, 2, 2])"
            ]
          },
          "metadata": {},
          "execution_count": 19
        }
      ]
    },
    {
      "cell_type": "code",
      "source": [
        "# (724,1203,2039,269)\n",
        "target = [0]*724 + [1]*1203 + [2]*2039 + [3]*269\n",
        "target = np.array(target)\n",
        "target.shape\n"
      ],
      "metadata": {
        "colab": {
          "base_uri": "https://localhost:8080/"
        },
        "id": "TV_UxIy1tzbo",
        "outputId": "b8a1bdf2-c828-4a59-a013-985f9847e91a"
      },
      "execution_count": 20,
      "outputs": [
        {
          "output_type": "execute_result",
          "data": {
            "text/plain": [
              "(4235,)"
            ]
          },
          "metadata": {},
          "execution_count": 20
        }
      ]
    },
    {
      "cell_type": "code",
      "source": [
        "labels = [0,1,2,3]\n",
        "r = recall_score(predict,target,labels=labels, average=\"micro\")\n",
        "\n",
        "print(r)"
      ],
      "metadata": {
        "colab": {
          "base_uri": "https://localhost:8080/"
        },
        "id": "o9wlYpr_vzw3",
        "outputId": "9aba4668-352e-4338-a69c-61fcbaf9689b"
      },
      "execution_count": 21,
      "outputs": [
        {
          "output_type": "stream",
          "name": "stdout",
          "text": [
            "0.3515938606847698\n"
          ]
        }
      ]
    },
    {
      "cell_type": "code",
      "source": [
        "#bc\n",
        "ag_bc_datagen = ImageDataGenerator(rescale=1/255)\n",
        "\n",
        "ag_bc_path = '/content/ag_bc'\n",
        "\n",
        "#class_mode 是多分類\n",
        "ag_bc_generator = ag_bc_datagen.flow_from_directory(\n",
        "    ag_bc_path,\n",
        "    batch_size = 32,\n",
        "    target_size = (299,299),\n",
        "    class_mode='categorical',\n",
        "    color_mode = 'rgb',\n",
        "    save_format = 'png'\n",
        ")\n",
        "\n",
        "#br\n",
        "ag_br_datagen = ImageDataGenerator(rescale=1/255)\n",
        "\n",
        "ag_br_path = '/content/ag_br'\n",
        "\n",
        "#class_mode 是多分類\n",
        "ag_br_generator = ag_br_datagen.flow_from_directory(\n",
        "    ag_br_path,\n",
        "    batch_size = 32,\n",
        "    target_size = (299,299),\n",
        "    class_mode='categorical',\n",
        "    color_mode = 'rgb',\n",
        "    save_format = 'png'\n",
        ")\n",
        "\n",
        "#bs\n",
        "ag_bs_datagen = ImageDataGenerator(rescale=1/255)\n",
        "\n",
        "ag_bs_path = '/content/ag_bs'\n",
        "\n",
        "#class_mode 是多分類\n",
        "ag_bs_generator = ag_bs_datagen.flow_from_directory(\n",
        "    ag_bs_path,\n",
        "    batch_size = 32,\n",
        "    target_size = (299,299),\n",
        "    class_mode='categorical',\n",
        "    color_mode = 'rgb',\n",
        "    save_format = 'png'\n",
        ")\n",
        "\n",
        "#rc\n",
        "ag_rc_datagen = ImageDataGenerator(rescale=1/255)\n",
        "\n",
        "ag_rc_path = '/content/ag_rc'\n",
        "\n",
        "#class_mode 是多分類\n",
        "ag_rc_generator = ag_rc_datagen.flow_from_directory(\n",
        "    ag_rc_path,\n",
        "    batch_size = 32,\n",
        "    target_size = (299,299),\n",
        "    class_mode='categorical',\n",
        "    color_mode = 'rgb',\n",
        "    save_format = 'png'\n",
        ")\n",
        "\n",
        "#rs\n",
        "ag_rs_datagen = ImageDataGenerator(rescale=1/255)\n",
        "\n",
        "ag_rs_path = '/content/ag_rs'\n",
        "\n",
        "#class_mode 是多分類\n",
        "ag_rs_generator = ag_rs_datagen.flow_from_directory(\n",
        "    ag_rs_path,\n",
        "    batch_size = 32,\n",
        "    target_size = (299,299),\n",
        "    class_mode='categorical',\n",
        "    color_mode = 'rgb',\n",
        "    save_format = 'png'\n",
        ")\n",
        "\n",
        "#sc\n",
        "ag_sc_datagen = ImageDataGenerator(rescale=1/255)\n",
        "\n",
        "ag_sc_path = '/content/ag_sc'\n",
        "\n",
        "#class_mode 是多分類\n",
        "ag_sc_generator = ag_sc_datagen.flow_from_directory(\n",
        "    ag_sc_path,\n",
        "    batch_size = 32,\n",
        "    target_size = (299,299),\n",
        "    class_mode='categorical',\n",
        "    color_mode = 'rgb',\n",
        "    save_format = 'png'\n",
        ")"
      ],
      "metadata": {
        "id": "HlpMAOj4wpPf",
        "colab": {
          "base_uri": "https://localhost:8080/"
        },
        "outputId": "d7d6e14f-1043-4586-9812-e161862f1b10"
      },
      "execution_count": 22,
      "outputs": [
        {
          "output_type": "stream",
          "name": "stdout",
          "text": [
            "Found 14310 images belonging to 4 classes.\n",
            "Found 14310 images belonging to 4 classes.\n",
            "Found 14310 images belonging to 4 classes.\n",
            "Found 14310 images belonging to 4 classes.\n",
            "Found 14310 images belonging to 4 classes.\n",
            "Found 14310 images belonging to 4 classes.\n"
          ]
        }
      ]
    },
    {
      "cell_type": "code",
      "source": [
        "#bc\n",
        "history = model.fit(\n",
        "    ag_bc_generator,\n",
        "    epochs = 15,\n",
        "    verbose = 1,\n",
        "    validation_data = validation_generator\n",
        ")"
      ],
      "metadata": {
        "colab": {
          "base_uri": "https://localhost:8080/"
        },
        "id": "pW5qBgKx_u8m",
        "outputId": "95923a6d-dcfc-4e33-d6ad-d75eb971cad5"
      },
      "execution_count": 23,
      "outputs": [
        {
          "output_type": "stream",
          "name": "stdout",
          "text": [
            "Epoch 1/15\n",
            "448/448 [==============================] - 80s 178ms/step - loss: 0.1430 - acc: 0.9889 - val_loss: 2.6655 - val_acc: 0.7646\n",
            "Epoch 2/15\n",
            "448/448 [==============================] - 74s 164ms/step - loss: 0.0447 - acc: 0.9916 - val_loss: 3.2931 - val_acc: 0.7809\n",
            "Epoch 3/15\n",
            "448/448 [==============================] - 74s 165ms/step - loss: 0.0437 - acc: 0.9926 - val_loss: 3.4405 - val_acc: 0.7674\n",
            "Epoch 4/15\n",
            "448/448 [==============================] - 74s 165ms/step - loss: 0.0393 - acc: 0.9930 - val_loss: 3.0213 - val_acc: 0.7913\n",
            "Epoch 5/15\n",
            "448/448 [==============================] - 74s 165ms/step - loss: 0.0412 - acc: 0.9932 - val_loss: 2.7330 - val_acc: 0.7577\n",
            "Epoch 6/15\n",
            "448/448 [==============================] - 74s 166ms/step - loss: 0.0384 - acc: 0.9933 - val_loss: 2.7272 - val_acc: 0.7792\n",
            "Epoch 7/15\n",
            "448/448 [==============================] - 74s 166ms/step - loss: 0.0373 - acc: 0.9929 - val_loss: 2.6855 - val_acc: 0.7941\n",
            "Epoch 8/15\n",
            "448/448 [==============================] - 77s 173ms/step - loss: 0.0481 - acc: 0.9923 - val_loss: 2.7381 - val_acc: 0.7901\n",
            "Epoch 9/15\n",
            "448/448 [==============================] - 79s 175ms/step - loss: 0.0450 - acc: 0.9926 - val_loss: 2.9728 - val_acc: 0.7684\n",
            "Epoch 10/15\n",
            "448/448 [==============================] - 76s 171ms/step - loss: 0.0382 - acc: 0.9931 - val_loss: 3.3516 - val_acc: 0.7818\n",
            "Epoch 11/15\n",
            "448/448 [==============================] - 76s 170ms/step - loss: 0.0263 - acc: 0.9952 - val_loss: 3.2821 - val_acc: 0.7764\n",
            "Epoch 12/15\n",
            "448/448 [==============================] - 76s 169ms/step - loss: 0.0326 - acc: 0.9947 - val_loss: 4.1445 - val_acc: 0.7847\n",
            "Epoch 13/15\n",
            "448/448 [==============================] - 76s 169ms/step - loss: 0.0353 - acc: 0.9945 - val_loss: 3.8152 - val_acc: 0.7913\n",
            "Epoch 14/15\n",
            "448/448 [==============================] - 76s 169ms/step - loss: 0.0437 - acc: 0.9945 - val_loss: 3.7758 - val_acc: 0.7662\n",
            "Epoch 15/15\n",
            "448/448 [==============================] - 76s 169ms/step - loss: 0.0357 - acc: 0.9953 - val_loss: 3.6194 - val_acc: 0.7842\n"
          ]
        }
      ]
    },
    {
      "cell_type": "code",
      "source": [
        "result = model.predict(\n",
        "    validation_generator\n",
        ")"
      ],
      "metadata": {
        "id": "RRnR-_eNCJ7n"
      },
      "execution_count": 24,
      "outputs": []
    },
    {
      "cell_type": "code",
      "source": [
        "predict = result.argmax(axis=1)\n",
        "predict"
      ],
      "metadata": {
        "colab": {
          "base_uri": "https://localhost:8080/"
        },
        "id": "phVARuP6CNUn",
        "outputId": "2bff367c-f48f-4631-aae0-e258b74e78b2"
      },
      "execution_count": 25,
      "outputs": [
        {
          "output_type": "execute_result",
          "data": {
            "text/plain": [
              "array([3, 1, 1, ..., 2, 2, 2])"
            ]
          },
          "metadata": {},
          "execution_count": 25
        }
      ]
    },
    {
      "cell_type": "code",
      "source": [
        "# (724,1203,2039,269) we do not have to run this block again\n",
        "# target = [0]*724 + [1]*1203 + [2]*2039 + [3]*269\n",
        "# target = np.array(target)\n",
        "# target.shape"
      ],
      "metadata": {
        "id": "VYroBbcGCOMU"
      },
      "execution_count": null,
      "outputs": []
    },
    {
      "cell_type": "code",
      "source": [
        "labels = [0,1,2,3]\n",
        "r = recall_score(predict,target,labels=labels, average=\"micro\")\n",
        "\n",
        "print(r)"
      ],
      "metadata": {
        "colab": {
          "base_uri": "https://localhost:8080/"
        },
        "id": "nkdxSwJVCWrZ",
        "outputId": "65f1c8f1-da88-46c8-d45f-8ef6f7ecd04a"
      },
      "execution_count": 26,
      "outputs": [
        {
          "output_type": "stream",
          "name": "stdout",
          "text": [
            "0.3629279811097993\n"
          ]
        }
      ]
    },
    {
      "cell_type": "code",
      "source": [
        "#br\n",
        "history = model.fit(\n",
        "    ag_br_generator,\n",
        "    epochs = 15,\n",
        "    verbose = 1,\n",
        "    validation_data = validation_generator\n",
        ")"
      ],
      "metadata": {
        "colab": {
          "base_uri": "https://localhost:8080/"
        },
        "id": "u55hF9BREZvb",
        "outputId": "aafcca54-7a59-4f04-b9cb-82c39cc9d43c"
      },
      "execution_count": 27,
      "outputs": [
        {
          "output_type": "stream",
          "name": "stdout",
          "text": [
            "Epoch 1/15\n",
            "448/448 [==============================] - 82s 182ms/step - loss: 0.1898 - acc: 0.9792 - val_loss: 2.6203 - val_acc: 0.7884\n",
            "Epoch 2/15\n",
            "448/448 [==============================] - 74s 165ms/step - loss: 0.0437 - acc: 0.9920 - val_loss: 3.1316 - val_acc: 0.7835\n",
            "Epoch 3/15\n",
            "448/448 [==============================] - 74s 166ms/step - loss: 0.0549 - acc: 0.9919 - val_loss: 3.4366 - val_acc: 0.7750\n",
            "Epoch 4/15\n",
            "448/448 [==============================] - 74s 166ms/step - loss: 0.0416 - acc: 0.9930 - val_loss: 2.6582 - val_acc: 0.7915\n",
            "Epoch 5/15\n",
            "448/448 [==============================] - 74s 165ms/step - loss: 0.0390 - acc: 0.9932 - val_loss: 3.1421 - val_acc: 0.7790\n",
            "Epoch 6/15\n",
            "448/448 [==============================] - 74s 165ms/step - loss: 0.0407 - acc: 0.9929 - val_loss: 3.6785 - val_acc: 0.7922\n",
            "Epoch 7/15\n",
            "448/448 [==============================] - 74s 165ms/step - loss: 0.0390 - acc: 0.9941 - val_loss: 4.0551 - val_acc: 0.7806\n",
            "Epoch 8/15\n",
            "448/448 [==============================] - 74s 165ms/step - loss: 0.0421 - acc: 0.9945 - val_loss: 3.7038 - val_acc: 0.7762\n",
            "Epoch 9/15\n",
            "448/448 [==============================] - 74s 165ms/step - loss: 0.0484 - acc: 0.9939 - val_loss: 3.3706 - val_acc: 0.7906\n",
            "Epoch 10/15\n",
            "448/448 [==============================] - 74s 165ms/step - loss: 0.0300 - acc: 0.9952 - val_loss: 5.1409 - val_acc: 0.7665\n",
            "Epoch 11/15\n",
            "448/448 [==============================] - 76s 168ms/step - loss: 0.0464 - acc: 0.9945 - val_loss: 4.1629 - val_acc: 0.7839\n",
            "Epoch 12/15\n",
            "448/448 [==============================] - 76s 168ms/step - loss: 0.0421 - acc: 0.9952 - val_loss: 3.8917 - val_acc: 0.7752\n",
            "Epoch 13/15\n",
            "448/448 [==============================] - 76s 169ms/step - loss: 0.0329 - acc: 0.9948 - val_loss: 4.6992 - val_acc: 0.7927\n",
            "Epoch 14/15\n",
            "448/448 [==============================] - 75s 168ms/step - loss: 0.0348 - acc: 0.9950 - val_loss: 5.4379 - val_acc: 0.7790\n",
            "Epoch 15/15\n",
            "448/448 [==============================] - 75s 166ms/step - loss: 0.0458 - acc: 0.9948 - val_loss: 4.9854 - val_acc: 0.7792\n"
          ]
        }
      ]
    },
    {
      "cell_type": "code",
      "source": [
        "result = model.predict(\n",
        "    validation_generator\n",
        ")"
      ],
      "metadata": {
        "id": "pEspudWCEknV"
      },
      "execution_count": 28,
      "outputs": []
    },
    {
      "cell_type": "code",
      "source": [
        "predict = result.argmax(axis=1)\n",
        "predict"
      ],
      "metadata": {
        "colab": {
          "base_uri": "https://localhost:8080/"
        },
        "id": "OiTjzDQvElYv",
        "outputId": "811ab4d6-5a26-42e4-e935-222fc639d3a3"
      },
      "execution_count": 29,
      "outputs": [
        {
          "output_type": "execute_result",
          "data": {
            "text/plain": [
              "array([1, 0, 1, ..., 2, 2, 2])"
            ]
          },
          "metadata": {},
          "execution_count": 29
        }
      ]
    },
    {
      "cell_type": "code",
      "source": [
        "labels = [0,1,2,3]\n",
        "r = recall_score(predict,target,labels=labels, average=\"micro\")\n",
        "\n",
        "print(r)"
      ],
      "metadata": {
        "colab": {
          "base_uri": "https://localhost:8080/"
        },
        "id": "-q3zgIhsEoMn",
        "outputId": "3861247b-f481-4fc3-c106-faa3747d3413"
      },
      "execution_count": 30,
      "outputs": [
        {
          "output_type": "stream",
          "name": "stdout",
          "text": [
            "0.35489964580873673\n"
          ]
        }
      ]
    },
    {
      "cell_type": "code",
      "source": [
        "#bs\n",
        "history = model.fit(\n",
        "    ag_bs_generator,\n",
        "    epochs = 15,\n",
        "    verbose = 1,\n",
        "    validation_data = validation_generator\n",
        ")"
      ],
      "metadata": {
        "colab": {
          "base_uri": "https://localhost:8080/"
        },
        "id": "TzXtQ0ZfJeGr",
        "outputId": "8d13d17c-f567-4056-e594-5d2c9b7f0229"
      },
      "execution_count": 31,
      "outputs": [
        {
          "output_type": "stream",
          "name": "stdout",
          "text": [
            "Epoch 1/15\n",
            "448/448 [==============================] - 81s 180ms/step - loss: 0.0514 - acc: 0.9950 - val_loss: 4.8638 - val_acc: 0.7861\n",
            "Epoch 2/15\n",
            "448/448 [==============================] - 73s 163ms/step - loss: 0.0502 - acc: 0.9955 - val_loss: 5.2081 - val_acc: 0.7917\n",
            "Epoch 3/15\n",
            "448/448 [==============================] - 73s 164ms/step - loss: 0.0538 - acc: 0.9943 - val_loss: 4.9130 - val_acc: 0.7695\n",
            "Epoch 4/15\n",
            "448/448 [==============================] - 74s 165ms/step - loss: 0.0458 - acc: 0.9954 - val_loss: 5.2236 - val_acc: 0.7816\n",
            "Epoch 5/15\n",
            "448/448 [==============================] - 74s 165ms/step - loss: 0.0417 - acc: 0.9955 - val_loss: 5.6560 - val_acc: 0.7773\n",
            "Epoch 6/15\n",
            "448/448 [==============================] - 74s 165ms/step - loss: 0.0426 - acc: 0.9964 - val_loss: 5.6832 - val_acc: 0.7802\n",
            "Epoch 7/15\n",
            "448/448 [==============================] - 74s 165ms/step - loss: 0.0415 - acc: 0.9951 - val_loss: 5.8428 - val_acc: 0.7783\n",
            "Epoch 8/15\n",
            "448/448 [==============================] - 74s 165ms/step - loss: 0.0393 - acc: 0.9957 - val_loss: 7.0822 - val_acc: 0.7903\n",
            "Epoch 9/15\n",
            "448/448 [==============================] - 74s 164ms/step - loss: 0.0406 - acc: 0.9960 - val_loss: 6.7179 - val_acc: 0.7872\n",
            "Epoch 10/15\n",
            "448/448 [==============================] - 74s 164ms/step - loss: 0.0528 - acc: 0.9950 - val_loss: 7.2923 - val_acc: 0.7757\n",
            "Epoch 11/15\n",
            "448/448 [==============================] - 74s 164ms/step - loss: 0.0468 - acc: 0.9964 - val_loss: 5.7272 - val_acc: 0.7903\n",
            "Epoch 12/15\n",
            "448/448 [==============================] - 74s 165ms/step - loss: 0.0378 - acc: 0.9953 - val_loss: 7.4896 - val_acc: 0.7566\n",
            "Epoch 13/15\n",
            "448/448 [==============================] - 75s 167ms/step - loss: 0.0543 - acc: 0.9950 - val_loss: 7.6365 - val_acc: 0.7790\n",
            "Epoch 14/15\n",
            "448/448 [==============================] - 74s 166ms/step - loss: 0.0547 - acc: 0.9943 - val_loss: 6.8600 - val_acc: 0.7747\n",
            "Epoch 15/15\n",
            "448/448 [==============================] - 74s 165ms/step - loss: 0.0518 - acc: 0.9948 - val_loss: 8.6542 - val_acc: 0.7799\n"
          ]
        }
      ]
    },
    {
      "cell_type": "code",
      "source": [
        "result = model.predict(\n",
        "    validation_generator\n",
        ")"
      ],
      "metadata": {
        "id": "WDnnScxAJmPm"
      },
      "execution_count": 32,
      "outputs": []
    },
    {
      "cell_type": "code",
      "source": [
        "predict = result.argmax(axis=1)\n",
        "predict"
      ],
      "metadata": {
        "colab": {
          "base_uri": "https://localhost:8080/"
        },
        "id": "w5DQ_J3IJmS8",
        "outputId": "7a456cd3-b699-4a7b-d011-8d94e65092bd"
      },
      "execution_count": 33,
      "outputs": [
        {
          "output_type": "execute_result",
          "data": {
            "text/plain": [
              "array([2, 2, 2, ..., 2, 0, 2])"
            ]
          },
          "metadata": {},
          "execution_count": 33
        }
      ]
    },
    {
      "cell_type": "code",
      "source": [
        "labels = [0,1,2,3]\n",
        "r = recall_score(predict,target,labels=labels, average=\"micro\")\n",
        "\n",
        "print(r)"
      ],
      "metadata": {
        "colab": {
          "base_uri": "https://localhost:8080/"
        },
        "id": "nibz1VB2Jrd4",
        "outputId": "bc4e8d7e-face-4765-d818-65c1e81f3ea3"
      },
      "execution_count": 34,
      "outputs": [
        {
          "output_type": "stream",
          "name": "stdout",
          "text": [
            "0.35442739079102714\n"
          ]
        }
      ]
    },
    {
      "cell_type": "code",
      "source": [
        "#rc\n",
        "history = model.fit(\n",
        "    ag_rc_generator,\n",
        "    epochs = 15,\n",
        "    verbose = 1,\n",
        "    validation_data = validation_generator\n",
        ")"
      ],
      "metadata": {
        "colab": {
          "base_uri": "https://localhost:8080/"
        },
        "id": "a3Ofne9zOb69",
        "outputId": "66439463-d296-4194-cfdf-7d2996333512"
      },
      "execution_count": 35,
      "outputs": [
        {
          "output_type": "stream",
          "name": "stdout",
          "text": [
            "Epoch 1/15\n",
            "448/448 [==============================] - 79s 175ms/step - loss: 0.0635 - acc: 0.9948 - val_loss: 8.6212 - val_acc: 0.7752\n",
            "Epoch 2/15\n",
            "448/448 [==============================] - 73s 163ms/step - loss: 0.0711 - acc: 0.9945 - val_loss: 7.3082 - val_acc: 0.7884\n",
            "Epoch 3/15\n",
            "448/448 [==============================] - 73s 163ms/step - loss: 0.0873 - acc: 0.9943 - val_loss: 6.3988 - val_acc: 0.7948\n",
            "Epoch 4/15\n",
            "448/448 [==============================] - 74s 164ms/step - loss: 0.0303 - acc: 0.9964 - val_loss: 6.5456 - val_acc: 0.7877\n",
            "Epoch 5/15\n",
            "448/448 [==============================] - 74s 164ms/step - loss: 0.0573 - acc: 0.9950 - val_loss: 8.0645 - val_acc: 0.7948\n",
            "Epoch 6/15\n",
            "448/448 [==============================] - 74s 164ms/step - loss: 0.0443 - acc: 0.9961 - val_loss: 6.9203 - val_acc: 0.7972\n",
            "Epoch 7/15\n",
            "448/448 [==============================] - 74s 164ms/step - loss: 0.0589 - acc: 0.9955 - val_loss: 7.2402 - val_acc: 0.7891\n",
            "Epoch 8/15\n",
            "448/448 [==============================] - 74s 164ms/step - loss: 0.0572 - acc: 0.9955 - val_loss: 7.7825 - val_acc: 0.7790\n",
            "Epoch 9/15\n",
            "448/448 [==============================] - 75s 167ms/step - loss: 0.0494 - acc: 0.9957 - val_loss: 7.0659 - val_acc: 0.7702\n",
            "Epoch 10/15\n",
            "448/448 [==============================] - 75s 167ms/step - loss: 0.0440 - acc: 0.9966 - val_loss: 6.7798 - val_acc: 0.7839\n",
            "Epoch 11/15\n",
            "448/448 [==============================] - 75s 167ms/step - loss: 0.0493 - acc: 0.9959 - val_loss: 6.6872 - val_acc: 0.7641\n",
            "Epoch 12/15\n",
            "448/448 [==============================] - 75s 168ms/step - loss: 0.0400 - acc: 0.9950 - val_loss: 6.1684 - val_acc: 0.7806\n",
            "Epoch 13/15\n",
            "448/448 [==============================] - 75s 167ms/step - loss: 0.0290 - acc: 0.9965 - val_loss: 7.5944 - val_acc: 0.7757\n",
            "Epoch 14/15\n",
            "448/448 [==============================] - 75s 167ms/step - loss: 0.0359 - acc: 0.9970 - val_loss: 7.4030 - val_acc: 0.7783\n",
            "Epoch 15/15\n",
            "448/448 [==============================] - 75s 167ms/step - loss: 0.0305 - acc: 0.9971 - val_loss: 7.1083 - val_acc: 0.7660\n"
          ]
        }
      ]
    },
    {
      "cell_type": "code",
      "source": [
        "result = model.predict(\n",
        "    validation_generator\n",
        ")"
      ],
      "metadata": {
        "id": "ft1OuZp1Oj-D"
      },
      "execution_count": 36,
      "outputs": []
    },
    {
      "cell_type": "code",
      "source": [
        "predict = result.argmax(axis=1)\n",
        "predict"
      ],
      "metadata": {
        "colab": {
          "base_uri": "https://localhost:8080/"
        },
        "id": "pjxpT-OUOkBV",
        "outputId": "c0129b8a-3e1c-45a6-f62d-33ca403c9dde"
      },
      "execution_count": 37,
      "outputs": [
        {
          "output_type": "execute_result",
          "data": {
            "text/plain": [
              "array([2, 1, 1, ..., 0, 0, 1])"
            ]
          },
          "metadata": {},
          "execution_count": 37
        }
      ]
    },
    {
      "cell_type": "code",
      "source": [
        "labels = [0,1,2,3]\n",
        "r = recall_score(predict,target,labels=labels, average=\"micro\")\n",
        "\n",
        "print(r)"
      ],
      "metadata": {
        "colab": {
          "base_uri": "https://localhost:8080/"
        },
        "id": "0eUt1qYjOkEx",
        "outputId": "ef8b12b9-60f6-478f-b6d8-f4d906a5c951"
      },
      "execution_count": 38,
      "outputs": [
        {
          "output_type": "stream",
          "name": "stdout",
          "text": [
            "0.35702479338842974\n"
          ]
        }
      ]
    },
    {
      "cell_type": "code",
      "source": [
        "#rs\n",
        "history = model.fit(\n",
        "    ag_rs_generator,\n",
        "    epochs = 15,\n",
        "    verbose = 1,\n",
        "    validation_data = validation_generator\n",
        ")"
      ],
      "metadata": {
        "colab": {
          "base_uri": "https://localhost:8080/"
        },
        "id": "DaQTZMqPTYJU",
        "outputId": "5e63afb1-4e99-4435-d984-59e4cee768ba"
      },
      "execution_count": 39,
      "outputs": [
        {
          "output_type": "stream",
          "name": "stdout",
          "text": [
            "Epoch 1/15\n",
            "448/448 [==============================] - 79s 177ms/step - loss: 0.0544 - acc: 0.9952 - val_loss: 7.6130 - val_acc: 0.7700\n",
            "Epoch 2/15\n",
            "448/448 [==============================] - 73s 163ms/step - loss: 0.0528 - acc: 0.9957 - val_loss: 8.1223 - val_acc: 0.7870\n",
            "Epoch 3/15\n",
            "448/448 [==============================] - 73s 163ms/step - loss: 0.0412 - acc: 0.9971 - val_loss: 8.0314 - val_acc: 0.7889\n",
            "Epoch 4/15\n",
            "448/448 [==============================] - 73s 163ms/step - loss: 0.0572 - acc: 0.9963 - val_loss: 6.8110 - val_acc: 0.7686\n",
            "Epoch 5/15\n",
            "448/448 [==============================] - 74s 164ms/step - loss: 0.0454 - acc: 0.9966 - val_loss: 7.8122 - val_acc: 0.7717\n",
            "Epoch 6/15\n",
            "448/448 [==============================] - 74s 164ms/step - loss: 0.0495 - acc: 0.9964 - val_loss: 7.8545 - val_acc: 0.7894\n",
            "Epoch 7/15\n",
            "448/448 [==============================] - 74s 164ms/step - loss: 0.0467 - acc: 0.9959 - val_loss: 9.1372 - val_acc: 0.7882\n",
            "Epoch 8/15\n",
            "448/448 [==============================] - 73s 164ms/step - loss: 0.0504 - acc: 0.9959 - val_loss: 9.8463 - val_acc: 0.7939\n",
            "Epoch 9/15\n",
            "448/448 [==============================] - 74s 164ms/step - loss: 0.0249 - acc: 0.9978 - val_loss: 9.2754 - val_acc: 0.7908\n",
            "Epoch 10/15\n",
            "448/448 [==============================] - 74s 165ms/step - loss: 0.0547 - acc: 0.9975 - val_loss: 10.4013 - val_acc: 0.7721\n",
            "Epoch 11/15\n",
            "448/448 [==============================] - 75s 166ms/step - loss: 0.0655 - acc: 0.9964 - val_loss: 9.1817 - val_acc: 0.7861\n",
            "Epoch 12/15\n",
            "448/448 [==============================] - 75s 167ms/step - loss: 0.0491 - acc: 0.9973 - val_loss: 7.9853 - val_acc: 0.7839\n",
            "Epoch 13/15\n",
            "448/448 [==============================] - 78s 174ms/step - loss: 0.0459 - acc: 0.9972 - val_loss: 10.3142 - val_acc: 0.7738\n",
            "Epoch 14/15\n",
            "448/448 [==============================] - 76s 170ms/step - loss: 0.0375 - acc: 0.9970 - val_loss: 7.6480 - val_acc: 0.7953\n",
            "Epoch 15/15\n",
            "448/448 [==============================] - 75s 167ms/step - loss: 0.0369 - acc: 0.9972 - val_loss: 7.2800 - val_acc: 0.7799\n"
          ]
        }
      ]
    },
    {
      "cell_type": "code",
      "source": [
        "result = model.predict(\n",
        "    validation_generator\n",
        ")"
      ],
      "metadata": {
        "id": "1d6GmUk4TYM8"
      },
      "execution_count": 40,
      "outputs": []
    },
    {
      "cell_type": "code",
      "source": [
        "predict = result.argmax(axis=1)\n",
        "predict"
      ],
      "metadata": {
        "colab": {
          "base_uri": "https://localhost:8080/"
        },
        "id": "fCCoIchXTYQc",
        "outputId": "d60b1ccc-b760-4d00-8b49-f7f0d23c4a8b"
      },
      "execution_count": 41,
      "outputs": [
        {
          "output_type": "execute_result",
          "data": {
            "text/plain": [
              "array([2, 1, 2, ..., 2, 0, 0])"
            ]
          },
          "metadata": {},
          "execution_count": 41
        }
      ]
    },
    {
      "cell_type": "code",
      "source": [
        "labels = [0,1,2,3]\n",
        "r = recall_score(predict,target,labels=labels, average=\"micro\")\n",
        "\n",
        "print(r)"
      ],
      "metadata": {
        "colab": {
          "base_uri": "https://localhost:8080/"
        },
        "id": "emib6OnDTYge",
        "outputId": "bfb20f1c-d51a-4fab-eecd-f1fd80774779"
      },
      "execution_count": 42,
      "outputs": [
        {
          "output_type": "stream",
          "name": "stdout",
          "text": [
            "0.3624557260920897\n"
          ]
        }
      ]
    },
    {
      "cell_type": "code",
      "source": [
        "#sc\n",
        "history = model.fit(\n",
        "    ag_sc_generator,\n",
        "    epochs = 15,\n",
        "    verbose = 1,\n",
        "    validation_data = validation_generator\n",
        ")"
      ],
      "metadata": {
        "colab": {
          "base_uri": "https://localhost:8080/"
        },
        "id": "RlpekNcXXDhG",
        "outputId": "924b885c-0342-4651-aa2b-10e1274305d2"
      },
      "execution_count": 43,
      "outputs": [
        {
          "output_type": "stream",
          "name": "stdout",
          "text": [
            "Epoch 1/15\n",
            "448/448 [==============================] - 80s 178ms/step - loss: 0.0402 - acc: 0.9963 - val_loss: 8.1647 - val_acc: 0.7950\n",
            "Epoch 2/15\n",
            "448/448 [==============================] - 75s 167ms/step - loss: 0.0316 - acc: 0.9973 - val_loss: 8.5192 - val_acc: 0.7842\n",
            "Epoch 3/15\n",
            "448/448 [==============================] - 74s 166ms/step - loss: 0.0373 - acc: 0.9974 - val_loss: 8.9421 - val_acc: 0.7780\n",
            "Epoch 4/15\n",
            "448/448 [==============================] - 74s 165ms/step - loss: 0.0388 - acc: 0.9972 - val_loss: 10.8979 - val_acc: 0.7532\n",
            "Epoch 5/15\n",
            "448/448 [==============================] - 74s 165ms/step - loss: 0.0349 - acc: 0.9981 - val_loss: 10.4355 - val_acc: 0.7972\n",
            "Epoch 6/15\n",
            "448/448 [==============================] - 74s 164ms/step - loss: 0.0347 - acc: 0.9971 - val_loss: 11.5690 - val_acc: 0.7941\n",
            "Epoch 7/15\n",
            "448/448 [==============================] - 74s 164ms/step - loss: 0.0591 - acc: 0.9969 - val_loss: 11.5479 - val_acc: 0.7825\n",
            "Epoch 8/15\n",
            "448/448 [==============================] - 74s 164ms/step - loss: 0.0383 - acc: 0.9973 - val_loss: 11.4177 - val_acc: 0.7906\n",
            "Epoch 9/15\n",
            "448/448 [==============================] - 74s 164ms/step - loss: 0.0480 - acc: 0.9971 - val_loss: 9.4950 - val_acc: 0.7783\n",
            "Epoch 10/15\n",
            "448/448 [==============================] - 74s 164ms/step - loss: 0.0423 - acc: 0.9977 - val_loss: 10.4684 - val_acc: 0.7752\n",
            "Epoch 11/15\n",
            "448/448 [==============================] - 74s 164ms/step - loss: 0.0539 - acc: 0.9969 - val_loss: 10.6388 - val_acc: 0.7818\n",
            "Epoch 12/15\n",
            "448/448 [==============================] - 73s 164ms/step - loss: 0.0391 - acc: 0.9976 - val_loss: 9.7455 - val_acc: 0.7804\n",
            "Epoch 13/15\n",
            "448/448 [==============================] - 73s 164ms/step - loss: 0.0444 - acc: 0.9976 - val_loss: 13.5627 - val_acc: 0.7835\n",
            "Epoch 14/15\n",
            "448/448 [==============================] - 74s 165ms/step - loss: 0.0392 - acc: 0.9976 - val_loss: 10.5250 - val_acc: 0.7948\n",
            "Epoch 15/15\n",
            "448/448 [==============================] - 75s 167ms/step - loss: 0.0554 - acc: 0.9971 - val_loss: 12.0696 - val_acc: 0.7858\n"
          ]
        }
      ]
    },
    {
      "cell_type": "code",
      "source": [
        "result = model.predict(\n",
        "    validation_generator\n",
        ")"
      ],
      "metadata": {
        "id": "a1C_LaVpXDj3"
      },
      "execution_count": 44,
      "outputs": []
    },
    {
      "cell_type": "code",
      "source": [
        "predict = result.argmax(axis=1)\n",
        "predict"
      ],
      "metadata": {
        "colab": {
          "base_uri": "https://localhost:8080/"
        },
        "id": "888XUir4XDmf",
        "outputId": "10ec2980-f6fc-4be5-de6e-d817c64b9387"
      },
      "execution_count": 45,
      "outputs": [
        {
          "output_type": "execute_result",
          "data": {
            "text/plain": [
              "array([1, 2, 0, ..., 2, 2, 3])"
            ]
          },
          "metadata": {},
          "execution_count": 45
        }
      ]
    },
    {
      "cell_type": "code",
      "source": [
        "labels = [0,1,2,3]\n",
        "r = recall_score(predict,target,labels=labels, average=\"micro\")\n",
        "\n",
        "print(r)"
      ],
      "metadata": {
        "colab": {
          "base_uri": "https://localhost:8080/"
        },
        "id": "mSz61q1WXDp9",
        "outputId": "142399ce-0d95-4d1c-8150-b269f78f61f6"
      },
      "execution_count": 46,
      "outputs": [
        {
          "output_type": "stream",
          "name": "stdout",
          "text": [
            "0.36363636363636365\n"
          ]
        }
      ]
    }
  ]
}