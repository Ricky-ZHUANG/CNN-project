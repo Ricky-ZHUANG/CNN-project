{
 "cells": [
  {
   "cell_type": "code",
   "execution_count": 1,
   "metadata": {},
   "outputs": [],
   "source": [
    "import cv2\n",
    "import numpy as np"
   ]
  },
  {
   "cell_type": "code",
   "execution_count": 2,
   "metadata": {},
   "outputs": [],
   "source": [
    "path = 'C:/Users/User/Desktop/Ricky document/COVID-19_Radiography_Dataset/train/Viral Pneumonia/'\n",
    "img_arr = []\n",
    "for i in range(807):\n",
    "    name = 'Viral Pneumonia-' + str(i) + '.png'\n",
    "    img = cv2.imread(path+name,0)\n",
    "    img_arr.append(img)"
   ]
  },
  {
   "cell_type": "code",
   "execution_count": 11,
   "metadata": {},
   "outputs": [],
   "source": [
    "#rotate 90\n",
    "for i in range(807):\n",
    "    img = img_arr[i]\n",
    "    new_img = cv2.rotate(img,rotateCode=0)\n",
    "    if new_img is not None:\n",
    "        path1 = \"C:/Users/User/Desktop/Ricky document/COVID-19_Radiography_Dataset/Augementation/rotate/r\" + str(i) +\".jpg\"\n",
    "        path2 = \"C:/Users/User/Desktop/Ricky document/COVID-19_Radiography_Dataset/Augementation/combination/r_b/r\" + str(i) +\".jpg\"\n",
    "        path3 = \"C:/Users/User/Desktop/Ricky document/COVID-19_Radiography_Dataset/Augementation/combination/r_c/r\" + str(i) +\".jpg\"\n",
    "        path4 = \"C:/Users/User/Desktop/Ricky document/COVID-19_Radiography_Dataset/Augementation/combination/r_s/r\" + str(i) +\".jpg\"\n",
    "        path5 = \"C:/Users/User/Desktop/Ricky document/COVID-19_Radiography_Dataset/Augementation/combination/b_r/r\" + str(i) +\".jpg\"\n",
    "        path6 = \"C:/Users/User/Desktop/Ricky document/COVID-19_Radiography_Dataset/Augementation/combination/c_s/r\" + str(i) +\".jpg\"\n",
    "        path7 = \"C:/Users/User/Desktop/Ricky document/COVID-19_Radiography_Dataset/Augementation/combination/s_r/r\" + str(i) +\".jpg\"\n",
    "        path = [path1, path2, path3, path4, path5, path6, path7]\n",
    "\n",
    "        for p in path:\n",
    "            cv2.imwrite(p, new_img)"
   ]
  },
  {
   "cell_type": "code",
   "execution_count": 12,
   "metadata": {},
   "outputs": [],
   "source": [
    "#brightness\n",
    "for i in range(807):\n",
    "    img = img_arr[i]\n",
    "    alpha = 1.5\n",
    "    beta = 50\n",
    "#     print(img)\n",
    "    if img is not None:\n",
    "        new_img = cv2.addWeighted(img,alpha,np.zeros(img.shape,img.dtype),0,beta)\n",
    "#         path = \"C:/Users/User/Desktop/Ricky document/COVID-19_Radiography_Dataset/Augementation/brightness/\" + str(i) +\".jpg\"\n",
    "        \n",
    "        path1 = \"C:/Users/User/Desktop/Ricky document/COVID-19_Radiography_Dataset/Augementation/brightness/b\" + str(i) +\".jpg\"\n",
    "        path2 = \"C:/Users/User/Desktop/Ricky document/COVID-19_Radiography_Dataset/Augementation/combination/r_b/b\" + str(i) +\".jpg\"\n",
    "        path3 = \"C:/Users/User/Desktop/Ricky document/COVID-19_Radiography_Dataset/Augementation/combination/b_c/b\" + str(i) +\".jpg\"\n",
    "        path4 = \"C:/Users/User/Desktop/Ricky document/COVID-19_Radiography_Dataset/Augementation/combination/b_s/b\" + str(i) +\".jpg\"\n",
    "        path5 = \"C:/Users/User/Desktop/Ricky document/COVID-19_Radiography_Dataset/Augementation/combination/b_r/b\" + str(i) +\".jpg\"\n",
    "        path6 = \"C:/Users/User/Desktop/Ricky document/COVID-19_Radiography_Dataset/Augementation/combination/c_b/b\" + str(i) +\".jpg\"\n",
    "        path7 = \"C:/Users/User/Desktop/Ricky document/COVID-19_Radiography_Dataset/Augementation/combination/s_b/b\" + str(i) +\".jpg\"\n",
    "        path = [path1, path2, path3, path4, path5, path6, path7]\n",
    "\n",
    "        for p in path:\n",
    "            cv2.imwrite(p, new_img)"
   ]
  },
  {
   "cell_type": "code",
   "execution_count": 13,
   "metadata": {},
   "outputs": [],
   "source": [
    "#contrast\n",
    "for i in range(807):\n",
    "    img = img_arr[i]\n",
    "    if img is not None:\n",
    "        alpha = 1.5 # Contrast control (1.0-3.0)\n",
    "        beta = 0 # Brightness control (0-100)\n",
    "        new_img = cv2.convertScaleAbs(img, alpha=alpha, beta=beta)\n",
    "        path = \"C:/Users/User/Desktop/Ricky document/COVID-19_Radiography_Dataset/Augementation/contrast/\" + str(i) +\".jpg\"\n",
    "        \n",
    "        path1 = \"C:/Users/User/Desktop/Ricky document/COVID-19_Radiography_Dataset/Augementation/contrast/c\" + str(i) +\".jpg\"\n",
    "        path2 = \"C:/Users/User/Desktop/Ricky document/COVID-19_Radiography_Dataset/Augementation/combination/c_b/c\" + str(i) +\".jpg\"\n",
    "        path3 = \"C:/Users/User/Desktop/Ricky document/COVID-19_Radiography_Dataset/Augementation/combination/r_c/c\" + str(i) +\".jpg\"\n",
    "        path4 = \"C:/Users/User/Desktop/Ricky document/COVID-19_Radiography_Dataset/Augementation/combination/c_s/c\" + str(i) +\".jpg\"\n",
    "        path5 = \"C:/Users/User/Desktop/Ricky document/COVID-19_Radiography_Dataset/Augementation/combination/c_r/c\" + str(i) +\".jpg\"\n",
    "        path6 = \"C:/Users/User/Desktop/Ricky document/COVID-19_Radiography_Dataset/Augementation/combination/b_c/c\" + str(i) +\".jpg\"\n",
    "        path7 = \"C:/Users/User/Desktop/Ricky document/COVID-19_Radiography_Dataset/Augementation/combination/s_c/c\" + str(i) +\".jpg\"\n",
    "        path = [path1, path2, path3, path4, path5, path6, path7]\n",
    "\n",
    "        for p in path:\n",
    "            cv2.imwrite(p, new_img)"
   ]
  },
  {
   "cell_type": "code",
   "execution_count": 14,
   "metadata": {},
   "outputs": [],
   "source": [
    "#sharpen\n",
    "for i in range(807):\n",
    "    img = img_arr[i]\n",
    "    if img is not None:\n",
    "        kernel = np.array([[-1,-1,-1], [-1,9,-1], [-1,-1,-1]])\n",
    "        new_img = cv2.filter2D(img, -1, kernel)\n",
    "#         path = \"C:/Users/User/Desktop/Ricky document/COVID-19_Radiography_Dataset/Augementation/sharpen/\" + str(i) +\".jpg\"\n",
    "        \n",
    "        path1 = \"C:/Users/User/Desktop/Ricky document/COVID-19_Radiography_Dataset/Augementation/sharpen/s\" + str(i) +\".jpg\"\n",
    "        path2 = \"C:/Users/User/Desktop/Ricky document/COVID-19_Radiography_Dataset/Augementation/combination/s_b/s\" + str(i) +\".jpg\"\n",
    "        path3 = \"C:/Users/User/Desktop/Ricky document/COVID-19_Radiography_Dataset/Augementation/combination/s_c/s\" + str(i) +\".jpg\"\n",
    "        path4 = \"C:/Users/User/Desktop/Ricky document/COVID-19_Radiography_Dataset/Augementation/combination/r_s/s\" + str(i) +\".jpg\"\n",
    "        path5 = \"C:/Users/User/Desktop/Ricky document/COVID-19_Radiography_Dataset/Augementation/combination/b_s/s\" + str(i) +\".jpg\"\n",
    "        path6 = \"C:/Users/User/Desktop/Ricky document/COVID-19_Radiography_Dataset/Augementation/combination/c_s/s\" + str(i) +\".jpg\"\n",
    "        path7 = \"C:/Users/User/Desktop/Ricky document/COVID-19_Radiography_Dataset/Augementation/combination/s_r/s\" + str(i) +\".jpg\"\n",
    "        path = [path1, path2, path3, path4, path5, path6, path7]\n",
    "\n",
    "        for p in path:\n",
    "            cv2.imwrite(p, new_img)"
   ]
  },
  {
   "cell_type": "code",
   "execution_count": null,
   "metadata": {},
   "outputs": [],
   "source": []
  }
 ],
 "metadata": {
  "kernelspec": {
   "display_name": "Python 3",
   "language": "python",
   "name": "python3"
  },
  "language_info": {
   "codemirror_mode": {
    "name": "ipython",
    "version": 3
   },
   "file_extension": ".py",
   "mimetype": "text/x-python",
   "name": "python",
   "nbconvert_exporter": "python",
   "pygments_lexer": "ipython3",
   "version": "3.8.5"
  }
 },
 "nbformat": 4,
 "nbformat_minor": 4
}
